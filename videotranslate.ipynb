{
  "cells": [
    {
      "cell_type": "markdown",
      "metadata": {
        "id": "view-in-github",
        "colab_type": "text"
      },
      "source": [
        "<a href=\"https://colab.research.google.com/github/HKaede/videotranslate/blob/main/videotranslate.ipynb\" target=\"_parent\"><img src=\"https://colab.research.google.com/assets/colab-badge.svg\" alt=\"Open In Colab\"/></a>"
      ]
    },
    {
      "cell_type": "code",
      "execution_count": null,
      "metadata": {
        "id": "1-WMsKI4O8q7"
      },
      "outputs": [],
      "source": [
        "#install \"Whisper\"\n",
        "!pip install git+https://github.com/openai/whisper.git"
      ]
    },
    {
      "cell_type": "code",
      "execution_count": null,
      "metadata": {
        "id": "0ytfKqgRxLXP"
      },
      "outputs": [],
      "source": [
        "#install \"google translate\"\n",
        "!pip install googletrans==3.1.0a0"
      ]
    },
    {
      "cell_type": "code",
      "execution_count": null,
      "metadata": {
        "id": "1CiQaA1QYj1-"
      },
      "outputs": [],
      "source": [
        "#install \"pytube\"\n",
        "!pip install pytube"
      ]
    },
    {
      "cell_type": "code",
      "execution_count": 9,
      "metadata": {
        "id": "japG0wEbPBvo"
      },
      "outputs": [],
      "source": [
        "import whisper\n",
        "from pytube import YouTube"
      ]
    },
    {
      "cell_type": "code",
      "execution_count": null,
      "metadata": {
        "id": "tp8bGZ31PROc"
      },
      "outputs": [],
      "source": [
        "#If you want to translate a YouTube video, please provide the URL\n",
        "yt = YouTube(\"\")\n",
        "#Specify the file extension\n",
        "stream = yt.streams.filter(progressive=True, file_extension='mp4').first()\n",
        "#If not, please specify the video.\n",
        "movie=stream.download()"
      ]
    },
    {
      "cell_type": "code",
      "execution_count": null,
      "metadata": {
        "id": "CqbC7OJ5xDyx"
      },
      "outputs": [],
      "source": [
        "#Selecting a model for Whisper.\n",
        "#\"tiny\",\"base\",\"small\",\"medium\",\"large\"\n",
        "model = whisper.load_model(\"large\")"
      ]
    },
    {
      "cell_type": "code",
      "execution_count": null,
      "metadata": {
        "id": "1rNjtfkUxFAs"
      },
      "outputs": [],
      "source": [
        "result = model.transcribe(movie)\n",
        "import pandas as pd\n",
        "pd.DataFrame(result[\"segments\"])[[\"id\", \"start\", \"end\", \"text\"]]"
      ]
    },
    {
      "cell_type": "code",
      "execution_count": null,
      "metadata": {
        "id": "6HXo7xVnsT74"
      },
      "outputs": [],
      "source": [
        "#Translate the text for each row of the dataframe\n",
        "from googletrans import Translator\n",
        "translator = Translator()\n",
        "df = pd.DataFrame(result[\"segments\"])\n",
        "for i in range(len(df[\"text\"])):\n",
        "  text_only=df[\"text\"][i]\n",
        "  trans= translator.translate(text_only, dest=\"ja\")\n",
        "  df[\"text\"][i]=trans.text\n",
        "df[[\"id\", \"start\", \"end\", \"text\"]]"
      ]
    },
    {
      "cell_type": "code",
      "execution_count": null,
      "metadata": {
        "id": "kD3bTmqp0PYo"
      },
      "outputs": [],
      "source": []
    }
  ],
  "metadata": {
    "accelerator": "GPU",
    "colab": {
      "provenance": [],
      "authorship_tag": "ABX9TyPd1jN4/zkzfHf4ALFdQgEw",
      "include_colab_link": true
    },
    "gpuClass": "standard",
    "kernelspec": {
      "display_name": "Python 3",
      "name": "python3"
    },
    "language_info": {
      "name": "python"
    }
  },
  "nbformat": 4,
  "nbformat_minor": 0
}